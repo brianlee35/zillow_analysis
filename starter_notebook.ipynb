{
 "cells": [
  {
   "cell_type": "markdown",
   "metadata": {},
   "source": [
    "# Texas Housing Time Analysis\n",
    "__By: Brian Lee__\n",
    "***"
   ]
  },
  {
   "cell_type": "markdown",
   "metadata": {},
   "source": [
    "## Business problem:\n",
    "\n",
    "Housing agents would like to see the next best metropolis to invest in based on the average housing price increases over the last few years. This will allow for the housing agency to better expect price jumps early, allowing for earlier buys at lower prices and selling at higher prices.\n",
    "Forecast model for TX\n",
    "\n",
    "As multiple markets like the streaming and tech companies are interested in Texas due to relatively low housing prices and no income tax. "
   ]
  },
  {
   "cell_type": "markdown",
   "metadata": {},
   "source": [
    "## Data Preparation"
   ]
  },
  {
   "cell_type": "code",
   "execution_count": 1,
   "metadata": {
    "ExecuteTime": {
     "end_time": "2021-08-06T07:43:41.796602Z",
     "start_time": "2021-08-06T07:43:39.979072Z"
    }
   },
   "outputs": [],
   "source": [
    "# Import necessary packages\n",
    "import pandas as pd\n",
    "import numpy as np\n",
    "from matplotlib import pyplot as plt\n",
    "%matplotlib inline\n",
    "plt.style.use('seaborn-whitegrid')\n",
    "\n",
    "import warnings\n",
    "warnings.filterwarnings('ignore')\n",
    "import itertools\n",
    "import statsmodels.api as sm"
   ]
  },
  {
   "cell_type": "code",
   "execution_count": 2,
   "metadata": {
    "ExecuteTime": {
     "end_time": "2021-08-06T07:43:42.248956Z",
     "start_time": "2021-08-06T07:43:41.797601Z"
    }
   },
   "outputs": [
    {
     "data": {
      "text/html": [
       "<div>\n",
       "<style scoped>\n",
       "    .dataframe tbody tr th:only-of-type {\n",
       "        vertical-align: middle;\n",
       "    }\n",
       "\n",
       "    .dataframe tbody tr th {\n",
       "        vertical-align: top;\n",
       "    }\n",
       "\n",
       "    .dataframe thead th {\n",
       "        text-align: right;\n",
       "    }\n",
       "</style>\n",
       "<table border=\"1\" class=\"dataframe\">\n",
       "  <thead>\n",
       "    <tr style=\"text-align: right;\">\n",
       "      <th></th>\n",
       "      <th>RegionID</th>\n",
       "      <th>RegionName</th>\n",
       "      <th>City</th>\n",
       "      <th>State</th>\n",
       "      <th>Metro</th>\n",
       "      <th>CountyName</th>\n",
       "      <th>SizeRank</th>\n",
       "      <th>1996-04</th>\n",
       "      <th>1996-05</th>\n",
       "      <th>1996-06</th>\n",
       "      <th>...</th>\n",
       "      <th>2017-07</th>\n",
       "      <th>2017-08</th>\n",
       "      <th>2017-09</th>\n",
       "      <th>2017-10</th>\n",
       "      <th>2017-11</th>\n",
       "      <th>2017-12</th>\n",
       "      <th>2018-01</th>\n",
       "      <th>2018-02</th>\n",
       "      <th>2018-03</th>\n",
       "      <th>2018-04</th>\n",
       "    </tr>\n",
       "  </thead>\n",
       "  <tbody>\n",
       "    <tr>\n",
       "      <th>0</th>\n",
       "      <td>84654</td>\n",
       "      <td>60657</td>\n",
       "      <td>Chicago</td>\n",
       "      <td>IL</td>\n",
       "      <td>Chicago</td>\n",
       "      <td>Cook</td>\n",
       "      <td>1</td>\n",
       "      <td>334200.0</td>\n",
       "      <td>335400.0</td>\n",
       "      <td>336500.0</td>\n",
       "      <td>...</td>\n",
       "      <td>1005500</td>\n",
       "      <td>1007500</td>\n",
       "      <td>1007800</td>\n",
       "      <td>1009600</td>\n",
       "      <td>1013300</td>\n",
       "      <td>1018700</td>\n",
       "      <td>1024400</td>\n",
       "      <td>1030700</td>\n",
       "      <td>1033800</td>\n",
       "      <td>1030600</td>\n",
       "    </tr>\n",
       "    <tr>\n",
       "      <th>1</th>\n",
       "      <td>90668</td>\n",
       "      <td>75070</td>\n",
       "      <td>McKinney</td>\n",
       "      <td>TX</td>\n",
       "      <td>Dallas-Fort Worth</td>\n",
       "      <td>Collin</td>\n",
       "      <td>2</td>\n",
       "      <td>235700.0</td>\n",
       "      <td>236900.0</td>\n",
       "      <td>236700.0</td>\n",
       "      <td>...</td>\n",
       "      <td>308000</td>\n",
       "      <td>310000</td>\n",
       "      <td>312500</td>\n",
       "      <td>314100</td>\n",
       "      <td>315000</td>\n",
       "      <td>316600</td>\n",
       "      <td>318100</td>\n",
       "      <td>319600</td>\n",
       "      <td>321100</td>\n",
       "      <td>321800</td>\n",
       "    </tr>\n",
       "    <tr>\n",
       "      <th>2</th>\n",
       "      <td>91982</td>\n",
       "      <td>77494</td>\n",
       "      <td>Katy</td>\n",
       "      <td>TX</td>\n",
       "      <td>Houston</td>\n",
       "      <td>Harris</td>\n",
       "      <td>3</td>\n",
       "      <td>210400.0</td>\n",
       "      <td>212200.0</td>\n",
       "      <td>212200.0</td>\n",
       "      <td>...</td>\n",
       "      <td>321000</td>\n",
       "      <td>320600</td>\n",
       "      <td>320200</td>\n",
       "      <td>320400</td>\n",
       "      <td>320800</td>\n",
       "      <td>321200</td>\n",
       "      <td>321200</td>\n",
       "      <td>323000</td>\n",
       "      <td>326900</td>\n",
       "      <td>329900</td>\n",
       "    </tr>\n",
       "    <tr>\n",
       "      <th>3</th>\n",
       "      <td>84616</td>\n",
       "      <td>60614</td>\n",
       "      <td>Chicago</td>\n",
       "      <td>IL</td>\n",
       "      <td>Chicago</td>\n",
       "      <td>Cook</td>\n",
       "      <td>4</td>\n",
       "      <td>498100.0</td>\n",
       "      <td>500900.0</td>\n",
       "      <td>503100.0</td>\n",
       "      <td>...</td>\n",
       "      <td>1289800</td>\n",
       "      <td>1287700</td>\n",
       "      <td>1287400</td>\n",
       "      <td>1291500</td>\n",
       "      <td>1296600</td>\n",
       "      <td>1299000</td>\n",
       "      <td>1302700</td>\n",
       "      <td>1306400</td>\n",
       "      <td>1308500</td>\n",
       "      <td>1307000</td>\n",
       "    </tr>\n",
       "    <tr>\n",
       "      <th>4</th>\n",
       "      <td>93144</td>\n",
       "      <td>79936</td>\n",
       "      <td>El Paso</td>\n",
       "      <td>TX</td>\n",
       "      <td>El Paso</td>\n",
       "      <td>El Paso</td>\n",
       "      <td>5</td>\n",
       "      <td>77300.0</td>\n",
       "      <td>77300.0</td>\n",
       "      <td>77300.0</td>\n",
       "      <td>...</td>\n",
       "      <td>119100</td>\n",
       "      <td>119400</td>\n",
       "      <td>120000</td>\n",
       "      <td>120300</td>\n",
       "      <td>120300</td>\n",
       "      <td>120300</td>\n",
       "      <td>120300</td>\n",
       "      <td>120500</td>\n",
       "      <td>121000</td>\n",
       "      <td>121500</td>\n",
       "    </tr>\n",
       "  </tbody>\n",
       "</table>\n",
       "<p>5 rows × 272 columns</p>\n",
       "</div>"
      ],
      "text/plain": [
       "   RegionID  RegionName      City State              Metro CountyName  \\\n",
       "0     84654       60657   Chicago    IL            Chicago       Cook   \n",
       "1     90668       75070  McKinney    TX  Dallas-Fort Worth     Collin   \n",
       "2     91982       77494      Katy    TX            Houston     Harris   \n",
       "3     84616       60614   Chicago    IL            Chicago       Cook   \n",
       "4     93144       79936   El Paso    TX            El Paso    El Paso   \n",
       "\n",
       "   SizeRank   1996-04   1996-05   1996-06  ...  2017-07  2017-08  2017-09  \\\n",
       "0         1  334200.0  335400.0  336500.0  ...  1005500  1007500  1007800   \n",
       "1         2  235700.0  236900.0  236700.0  ...   308000   310000   312500   \n",
       "2         3  210400.0  212200.0  212200.0  ...   321000   320600   320200   \n",
       "3         4  498100.0  500900.0  503100.0  ...  1289800  1287700  1287400   \n",
       "4         5   77300.0   77300.0   77300.0  ...   119100   119400   120000   \n",
       "\n",
       "   2017-10  2017-11  2017-12  2018-01  2018-02  2018-03  2018-04  \n",
       "0  1009600  1013300  1018700  1024400  1030700  1033800  1030600  \n",
       "1   314100   315000   316600   318100   319600   321100   321800  \n",
       "2   320400   320800   321200   321200   323000   326900   329900  \n",
       "3  1291500  1296600  1299000  1302700  1306400  1308500  1307000  \n",
       "4   120300   120300   120300   120300   120500   121000   121500  \n",
       "\n",
       "[5 rows x 272 columns]"
      ]
     },
     "execution_count": 2,
     "metadata": {},
     "output_type": "execute_result"
    }
   ],
   "source": [
    "df = pd.read_csv('time-series/zillow_data.csv')\n",
    "df.head()"
   ]
  },
  {
   "cell_type": "code",
   "execution_count": 3,
   "metadata": {
    "ExecuteTime": {
     "end_time": "2021-08-06T07:43:42.279869Z",
     "start_time": "2021-08-06T07:43:42.249926Z"
    },
    "scrolled": true
   },
   "outputs": [
    {
     "data": {
      "text/html": [
       "<div>\n",
       "<style scoped>\n",
       "    .dataframe tbody tr th:only-of-type {\n",
       "        vertical-align: middle;\n",
       "    }\n",
       "\n",
       "    .dataframe tbody tr th {\n",
       "        vertical-align: top;\n",
       "    }\n",
       "\n",
       "    .dataframe thead th {\n",
       "        text-align: right;\n",
       "    }\n",
       "</style>\n",
       "<table border=\"1\" class=\"dataframe\">\n",
       "  <thead>\n",
       "    <tr style=\"text-align: right;\">\n",
       "      <th></th>\n",
       "      <th>RegionID</th>\n",
       "      <th>RegionName</th>\n",
       "      <th>City</th>\n",
       "      <th>State</th>\n",
       "      <th>Metro</th>\n",
       "      <th>CountyName</th>\n",
       "      <th>SizeRank</th>\n",
       "      <th>1996-04</th>\n",
       "      <th>1996-05</th>\n",
       "      <th>1996-06</th>\n",
       "      <th>...</th>\n",
       "      <th>2017-07</th>\n",
       "      <th>2017-08</th>\n",
       "      <th>2017-09</th>\n",
       "      <th>2017-10</th>\n",
       "      <th>2017-11</th>\n",
       "      <th>2017-12</th>\n",
       "      <th>2018-01</th>\n",
       "      <th>2018-02</th>\n",
       "      <th>2018-03</th>\n",
       "      <th>2018-04</th>\n",
       "    </tr>\n",
       "  </thead>\n",
       "  <tbody>\n",
       "    <tr>\n",
       "      <th>1</th>\n",
       "      <td>90668</td>\n",
       "      <td>75070</td>\n",
       "      <td>McKinney</td>\n",
       "      <td>TX</td>\n",
       "      <td>Dallas-Fort Worth</td>\n",
       "      <td>Collin</td>\n",
       "      <td>2</td>\n",
       "      <td>235700.0</td>\n",
       "      <td>236900.0</td>\n",
       "      <td>236700.0</td>\n",
       "      <td>...</td>\n",
       "      <td>308000</td>\n",
       "      <td>310000</td>\n",
       "      <td>312500</td>\n",
       "      <td>314100</td>\n",
       "      <td>315000</td>\n",
       "      <td>316600</td>\n",
       "      <td>318100</td>\n",
       "      <td>319600</td>\n",
       "      <td>321100</td>\n",
       "      <td>321800</td>\n",
       "    </tr>\n",
       "    <tr>\n",
       "      <th>2</th>\n",
       "      <td>91982</td>\n",
       "      <td>77494</td>\n",
       "      <td>Katy</td>\n",
       "      <td>TX</td>\n",
       "      <td>Houston</td>\n",
       "      <td>Harris</td>\n",
       "      <td>3</td>\n",
       "      <td>210400.0</td>\n",
       "      <td>212200.0</td>\n",
       "      <td>212200.0</td>\n",
       "      <td>...</td>\n",
       "      <td>321000</td>\n",
       "      <td>320600</td>\n",
       "      <td>320200</td>\n",
       "      <td>320400</td>\n",
       "      <td>320800</td>\n",
       "      <td>321200</td>\n",
       "      <td>321200</td>\n",
       "      <td>323000</td>\n",
       "      <td>326900</td>\n",
       "      <td>329900</td>\n",
       "    </tr>\n",
       "    <tr>\n",
       "      <th>4</th>\n",
       "      <td>93144</td>\n",
       "      <td>79936</td>\n",
       "      <td>El Paso</td>\n",
       "      <td>TX</td>\n",
       "      <td>El Paso</td>\n",
       "      <td>El Paso</td>\n",
       "      <td>5</td>\n",
       "      <td>77300.0</td>\n",
       "      <td>77300.0</td>\n",
       "      <td>77300.0</td>\n",
       "      <td>...</td>\n",
       "      <td>119100</td>\n",
       "      <td>119400</td>\n",
       "      <td>120000</td>\n",
       "      <td>120300</td>\n",
       "      <td>120300</td>\n",
       "      <td>120300</td>\n",
       "      <td>120300</td>\n",
       "      <td>120500</td>\n",
       "      <td>121000</td>\n",
       "      <td>121500</td>\n",
       "    </tr>\n",
       "    <tr>\n",
       "      <th>5</th>\n",
       "      <td>91733</td>\n",
       "      <td>77084</td>\n",
       "      <td>Houston</td>\n",
       "      <td>TX</td>\n",
       "      <td>Houston</td>\n",
       "      <td>Harris</td>\n",
       "      <td>6</td>\n",
       "      <td>95000.0</td>\n",
       "      <td>95200.0</td>\n",
       "      <td>95400.0</td>\n",
       "      <td>...</td>\n",
       "      <td>157900</td>\n",
       "      <td>158700</td>\n",
       "      <td>160200</td>\n",
       "      <td>161900</td>\n",
       "      <td>162800</td>\n",
       "      <td>162800</td>\n",
       "      <td>162800</td>\n",
       "      <td>162900</td>\n",
       "      <td>163500</td>\n",
       "      <td>164300</td>\n",
       "    </tr>\n",
       "    <tr>\n",
       "      <th>8</th>\n",
       "      <td>91940</td>\n",
       "      <td>77449</td>\n",
       "      <td>Katy</td>\n",
       "      <td>TX</td>\n",
       "      <td>Houston</td>\n",
       "      <td>Harris</td>\n",
       "      <td>9</td>\n",
       "      <td>95400.0</td>\n",
       "      <td>95600.0</td>\n",
       "      <td>95800.0</td>\n",
       "      <td>...</td>\n",
       "      <td>166800</td>\n",
       "      <td>167400</td>\n",
       "      <td>168400</td>\n",
       "      <td>169600</td>\n",
       "      <td>170900</td>\n",
       "      <td>172300</td>\n",
       "      <td>173300</td>\n",
       "      <td>174200</td>\n",
       "      <td>175400</td>\n",
       "      <td>176200</td>\n",
       "    </tr>\n",
       "  </tbody>\n",
       "</table>\n",
       "<p>5 rows × 272 columns</p>\n",
       "</div>"
      ],
      "text/plain": [
       "   RegionID  RegionName      City State              Metro CountyName  \\\n",
       "1     90668       75070  McKinney    TX  Dallas-Fort Worth     Collin   \n",
       "2     91982       77494      Katy    TX            Houston     Harris   \n",
       "4     93144       79936   El Paso    TX            El Paso    El Paso   \n",
       "5     91733       77084   Houston    TX            Houston     Harris   \n",
       "8     91940       77449      Katy    TX            Houston     Harris   \n",
       "\n",
       "   SizeRank   1996-04   1996-05   1996-06  ...  2017-07  2017-08  2017-09  \\\n",
       "1         2  235700.0  236900.0  236700.0  ...   308000   310000   312500   \n",
       "2         3  210400.0  212200.0  212200.0  ...   321000   320600   320200   \n",
       "4         5   77300.0   77300.0   77300.0  ...   119100   119400   120000   \n",
       "5         6   95000.0   95200.0   95400.0  ...   157900   158700   160200   \n",
       "8         9   95400.0   95600.0   95800.0  ...   166800   167400   168400   \n",
       "\n",
       "   2017-10  2017-11  2017-12  2018-01  2018-02  2018-03  2018-04  \n",
       "1   314100   315000   316600   318100   319600   321100   321800  \n",
       "2   320400   320800   321200   321200   323000   326900   329900  \n",
       "4   120300   120300   120300   120300   120500   121000   121500  \n",
       "5   161900   162800   162800   162800   162900   163500   164300  \n",
       "8   169600   170900   172300   173300   174200   175400   176200  \n",
       "\n",
       "[5 rows x 272 columns]"
      ]
     },
     "execution_count": 3,
     "metadata": {},
     "output_type": "execute_result"
    }
   ],
   "source": [
    "# Extract only Texas data values\n",
    "TX_df = df[df['State'] == 'TX']\n",
    "TX_df.head()"
   ]
  },
  {
   "cell_type": "code",
   "execution_count": 4,
   "metadata": {
    "ExecuteTime": {
     "end_time": "2021-08-06T07:43:42.295830Z",
     "start_time": "2021-08-06T07:43:42.281841Z"
    }
   },
   "outputs": [],
   "source": [
    "# Houston dataset\n",
    "houston_df = TX_df[TX_df['Metro'] == 'Houston']"
   ]
  },
  {
   "cell_type": "markdown",
   "metadata": {},
   "source": [
    "****\n",
    "\n",
    "We will use __Return on Investment (ROI)__ in order to determine whether the home value in the area is best for the model.\n",
    "\n",
    "Calculated (Final Value - Initial Value) / Cost of Investment"
   ]
  },
  {
   "cell_type": "code",
   "execution_count": 5,
   "metadata": {
    "ExecuteTime": {
     "end_time": "2021-08-06T07:43:42.326719Z",
     "start_time": "2021-08-06T07:43:42.297797Z"
    }
   },
   "outputs": [
    {
     "data": {
      "text/html": [
       "<div>\n",
       "<style scoped>\n",
       "    .dataframe tbody tr th:only-of-type {\n",
       "        vertical-align: middle;\n",
       "    }\n",
       "\n",
       "    .dataframe tbody tr th {\n",
       "        vertical-align: top;\n",
       "    }\n",
       "\n",
       "    .dataframe thead th {\n",
       "        text-align: right;\n",
       "    }\n",
       "</style>\n",
       "<table border=\"1\" class=\"dataframe\">\n",
       "  <thead>\n",
       "    <tr style=\"text-align: right;\">\n",
       "      <th></th>\n",
       "      <th>RegionID</th>\n",
       "      <th>RegionName</th>\n",
       "      <th>City</th>\n",
       "      <th>State</th>\n",
       "      <th>Metro</th>\n",
       "      <th>CountyName</th>\n",
       "      <th>SizeRank</th>\n",
       "      <th>1996-04</th>\n",
       "      <th>1996-05</th>\n",
       "      <th>1996-06</th>\n",
       "      <th>...</th>\n",
       "      <th>2017-09</th>\n",
       "      <th>2017-10</th>\n",
       "      <th>2017-11</th>\n",
       "      <th>2017-12</th>\n",
       "      <th>2018-01</th>\n",
       "      <th>2018-02</th>\n",
       "      <th>2018-03</th>\n",
       "      <th>2018-04</th>\n",
       "      <th>ROI_5_years</th>\n",
       "      <th>ROI_10_years</th>\n",
       "    </tr>\n",
       "  </thead>\n",
       "  <tbody>\n",
       "    <tr>\n",
       "      <th>2</th>\n",
       "      <td>91982</td>\n",
       "      <td>77494</td>\n",
       "      <td>Katy</td>\n",
       "      <td>TX</td>\n",
       "      <td>Houston</td>\n",
       "      <td>Harris</td>\n",
       "      <td>3</td>\n",
       "      <td>210400.0</td>\n",
       "      <td>212200.0</td>\n",
       "      <td>212200.0</td>\n",
       "      <td>...</td>\n",
       "      <td>320200</td>\n",
       "      <td>320400</td>\n",
       "      <td>320800</td>\n",
       "      <td>321200</td>\n",
       "      <td>321200</td>\n",
       "      <td>323000</td>\n",
       "      <td>326900</td>\n",
       "      <td>329900</td>\n",
       "      <td>0.2842</td>\n",
       "      <td>0.2983</td>\n",
       "    </tr>\n",
       "    <tr>\n",
       "      <th>5</th>\n",
       "      <td>91733</td>\n",
       "      <td>77084</td>\n",
       "      <td>Houston</td>\n",
       "      <td>TX</td>\n",
       "      <td>Houston</td>\n",
       "      <td>Harris</td>\n",
       "      <td>6</td>\n",
       "      <td>95000.0</td>\n",
       "      <td>95200.0</td>\n",
       "      <td>95400.0</td>\n",
       "      <td>...</td>\n",
       "      <td>160200</td>\n",
       "      <td>161900</td>\n",
       "      <td>162800</td>\n",
       "      <td>162800</td>\n",
       "      <td>162800</td>\n",
       "      <td>162900</td>\n",
       "      <td>163500</td>\n",
       "      <td>164300</td>\n",
       "      <td>0.4617</td>\n",
       "      <td>0.2494</td>\n",
       "    </tr>\n",
       "    <tr>\n",
       "      <th>8</th>\n",
       "      <td>91940</td>\n",
       "      <td>77449</td>\n",
       "      <td>Katy</td>\n",
       "      <td>TX</td>\n",
       "      <td>Houston</td>\n",
       "      <td>Harris</td>\n",
       "      <td>9</td>\n",
       "      <td>95400.0</td>\n",
       "      <td>95600.0</td>\n",
       "      <td>95800.0</td>\n",
       "      <td>...</td>\n",
       "      <td>168400</td>\n",
       "      <td>169600</td>\n",
       "      <td>170900</td>\n",
       "      <td>172300</td>\n",
       "      <td>173300</td>\n",
       "      <td>174200</td>\n",
       "      <td>175400</td>\n",
       "      <td>176200</td>\n",
       "      <td>0.5021</td>\n",
       "      <td>0.2908</td>\n",
       "    </tr>\n",
       "    <tr>\n",
       "      <th>22</th>\n",
       "      <td>92036</td>\n",
       "      <td>77573</td>\n",
       "      <td>League City</td>\n",
       "      <td>TX</td>\n",
       "      <td>Houston</td>\n",
       "      <td>Galveston</td>\n",
       "      <td>23</td>\n",
       "      <td>141400.0</td>\n",
       "      <td>141000.0</td>\n",
       "      <td>140600.0</td>\n",
       "      <td>...</td>\n",
       "      <td>252300</td>\n",
       "      <td>252400</td>\n",
       "      <td>252300</td>\n",
       "      <td>253100</td>\n",
       "      <td>254700</td>\n",
       "      <td>257100</td>\n",
       "      <td>259800</td>\n",
       "      <td>261400</td>\n",
       "      <td>0.4130</td>\n",
       "      <td>0.3189</td>\n",
       "    </tr>\n",
       "    <tr>\n",
       "      <th>23</th>\n",
       "      <td>92045</td>\n",
       "      <td>77584</td>\n",
       "      <td>Pearland</td>\n",
       "      <td>TX</td>\n",
       "      <td>Houston</td>\n",
       "      <td>Brazoria</td>\n",
       "      <td>24</td>\n",
       "      <td>138500.0</td>\n",
       "      <td>138700.0</td>\n",
       "      <td>139200.0</td>\n",
       "      <td>...</td>\n",
       "      <td>250500</td>\n",
       "      <td>250700</td>\n",
       "      <td>251000</td>\n",
       "      <td>251400</td>\n",
       "      <td>251900</td>\n",
       "      <td>253200</td>\n",
       "      <td>255100</td>\n",
       "      <td>256500</td>\n",
       "      <td>0.3783</td>\n",
       "      <td>0.2749</td>\n",
       "    </tr>\n",
       "  </tbody>\n",
       "</table>\n",
       "<p>5 rows × 274 columns</p>\n",
       "</div>"
      ],
      "text/plain": [
       "    RegionID  RegionName         City State    Metro CountyName  SizeRank  \\\n",
       "2      91982       77494         Katy    TX  Houston     Harris         3   \n",
       "5      91733       77084      Houston    TX  Houston     Harris         6   \n",
       "8      91940       77449         Katy    TX  Houston     Harris         9   \n",
       "22     92036       77573  League City    TX  Houston  Galveston        23   \n",
       "23     92045       77584     Pearland    TX  Houston   Brazoria        24   \n",
       "\n",
       "     1996-04   1996-05   1996-06  ...  2017-09  2017-10  2017-11  2017-12  \\\n",
       "2   210400.0  212200.0  212200.0  ...   320200   320400   320800   321200   \n",
       "5    95000.0   95200.0   95400.0  ...   160200   161900   162800   162800   \n",
       "8    95400.0   95600.0   95800.0  ...   168400   169600   170900   172300   \n",
       "22  141400.0  141000.0  140600.0  ...   252300   252400   252300   253100   \n",
       "23  138500.0  138700.0  139200.0  ...   250500   250700   251000   251400   \n",
       "\n",
       "    2018-01  2018-02  2018-03  2018-04  ROI_5_years  ROI_10_years  \n",
       "2    321200   323000   326900   329900       0.2842        0.2983  \n",
       "5    162800   162900   163500   164300       0.4617        0.2494  \n",
       "8    173300   174200   175400   176200       0.5021        0.2908  \n",
       "22   254700   257100   259800   261400       0.4130        0.3189  \n",
       "23   251900   253200   255100   256500       0.3783        0.2749  \n",
       "\n",
       "[5 rows x 274 columns]"
      ]
     },
     "execution_count": 5,
     "metadata": {},
     "output_type": "execute_result"
    }
   ],
   "source": [
    "# 5 year ROI\n",
    "houston_df['ROI_5_years'] = round((houston_df['2018-04'] - houston_df['2013-01'])/ houston_df['2013-01'],4)\n",
    "\n",
    "# 3 year ROI\n",
    "houston_df['ROI_10_years'] = round((houston_df['2018-04'] - houston_df['2008-01'])/ houston_df['2008-01'],4)\n",
    "\n",
    "houston_df.head()"
   ]
  },
  {
   "cell_type": "code",
   "execution_count": 6,
   "metadata": {
    "ExecuteTime": {
     "end_time": "2021-08-06T07:43:42.341704Z",
     "start_time": "2021-08-06T07:43:42.327717Z"
    }
   },
   "outputs": [],
   "source": [
    "# Reshape from Wide to Long Format\n",
    "def melt_data(df):\n",
    "    melted = pd.melt(df, id_vars=['RegionName', 'City', 'CountyName', 'ROI_5_years', 'ROI_10_years'], var_name='Date')\n",
    "    melted['Date'] = pd.to_datetime(melted['Date'], infer_datetime_format=True)\n",
    "    melted = melted.dropna(subset=['value'])\n",
    "    return melted"
   ]
  },
  {
   "cell_type": "code",
   "execution_count": 7,
   "metadata": {
    "ExecuteTime": {
     "end_time": "2021-08-06T07:43:42.357636Z",
     "start_time": "2021-08-06T07:43:42.343675Z"
    }
   },
   "outputs": [],
   "source": [
    "# Remove unnecessary columns\n",
    "houston_df.drop(columns=['RegionID','State','Metro','SizeRank'], inplace=True)"
   ]
  },
  {
   "cell_type": "code",
   "execution_count": 8,
   "metadata": {
    "ExecuteTime": {
     "end_time": "2021-08-06T07:43:42.389551Z",
     "start_time": "2021-08-06T07:43:42.359662Z"
    }
   },
   "outputs": [
    {
     "data": {
      "text/html": [
       "<div>\n",
       "<style scoped>\n",
       "    .dataframe tbody tr th:only-of-type {\n",
       "        vertical-align: middle;\n",
       "    }\n",
       "\n",
       "    .dataframe tbody tr th {\n",
       "        vertical-align: top;\n",
       "    }\n",
       "\n",
       "    .dataframe thead th {\n",
       "        text-align: right;\n",
       "    }\n",
       "</style>\n",
       "<table border=\"1\" class=\"dataframe\">\n",
       "  <thead>\n",
       "    <tr style=\"text-align: right;\">\n",
       "      <th></th>\n",
       "      <th>RegionName</th>\n",
       "      <th>City</th>\n",
       "      <th>CountyName</th>\n",
       "      <th>1996-04</th>\n",
       "      <th>1996-05</th>\n",
       "      <th>1996-06</th>\n",
       "      <th>1996-07</th>\n",
       "      <th>1996-08</th>\n",
       "      <th>1996-09</th>\n",
       "      <th>1996-10</th>\n",
       "      <th>...</th>\n",
       "      <th>2017-09</th>\n",
       "      <th>2017-10</th>\n",
       "      <th>2017-11</th>\n",
       "      <th>2017-12</th>\n",
       "      <th>2018-01</th>\n",
       "      <th>2018-02</th>\n",
       "      <th>2018-03</th>\n",
       "      <th>2018-04</th>\n",
       "      <th>ROI_5_years</th>\n",
       "      <th>ROI_10_years</th>\n",
       "    </tr>\n",
       "  </thead>\n",
       "  <tbody>\n",
       "    <tr>\n",
       "      <th>2</th>\n",
       "      <td>77494</td>\n",
       "      <td>Katy</td>\n",
       "      <td>Harris</td>\n",
       "      <td>210400.0</td>\n",
       "      <td>212200.0</td>\n",
       "      <td>212200.0</td>\n",
       "      <td>210700.0</td>\n",
       "      <td>208300.0</td>\n",
       "      <td>205500.0</td>\n",
       "      <td>202500.0</td>\n",
       "      <td>...</td>\n",
       "      <td>320200</td>\n",
       "      <td>320400</td>\n",
       "      <td>320800</td>\n",
       "      <td>321200</td>\n",
       "      <td>321200</td>\n",
       "      <td>323000</td>\n",
       "      <td>326900</td>\n",
       "      <td>329900</td>\n",
       "      <td>0.2842</td>\n",
       "      <td>0.2983</td>\n",
       "    </tr>\n",
       "    <tr>\n",
       "      <th>5</th>\n",
       "      <td>77084</td>\n",
       "      <td>Houston</td>\n",
       "      <td>Harris</td>\n",
       "      <td>95000.0</td>\n",
       "      <td>95200.0</td>\n",
       "      <td>95400.0</td>\n",
       "      <td>95700.0</td>\n",
       "      <td>95900.0</td>\n",
       "      <td>96100.0</td>\n",
       "      <td>96200.0</td>\n",
       "      <td>...</td>\n",
       "      <td>160200</td>\n",
       "      <td>161900</td>\n",
       "      <td>162800</td>\n",
       "      <td>162800</td>\n",
       "      <td>162800</td>\n",
       "      <td>162900</td>\n",
       "      <td>163500</td>\n",
       "      <td>164300</td>\n",
       "      <td>0.4617</td>\n",
       "      <td>0.2494</td>\n",
       "    </tr>\n",
       "    <tr>\n",
       "      <th>8</th>\n",
       "      <td>77449</td>\n",
       "      <td>Katy</td>\n",
       "      <td>Harris</td>\n",
       "      <td>95400.0</td>\n",
       "      <td>95600.0</td>\n",
       "      <td>95800.0</td>\n",
       "      <td>96100.0</td>\n",
       "      <td>96400.0</td>\n",
       "      <td>96700.0</td>\n",
       "      <td>96800.0</td>\n",
       "      <td>...</td>\n",
       "      <td>168400</td>\n",
       "      <td>169600</td>\n",
       "      <td>170900</td>\n",
       "      <td>172300</td>\n",
       "      <td>173300</td>\n",
       "      <td>174200</td>\n",
       "      <td>175400</td>\n",
       "      <td>176200</td>\n",
       "      <td>0.5021</td>\n",
       "      <td>0.2908</td>\n",
       "    </tr>\n",
       "    <tr>\n",
       "      <th>22</th>\n",
       "      <td>77573</td>\n",
       "      <td>League City</td>\n",
       "      <td>Galveston</td>\n",
       "      <td>141400.0</td>\n",
       "      <td>141000.0</td>\n",
       "      <td>140600.0</td>\n",
       "      <td>140500.0</td>\n",
       "      <td>140400.0</td>\n",
       "      <td>140500.0</td>\n",
       "      <td>140700.0</td>\n",
       "      <td>...</td>\n",
       "      <td>252300</td>\n",
       "      <td>252400</td>\n",
       "      <td>252300</td>\n",
       "      <td>253100</td>\n",
       "      <td>254700</td>\n",
       "      <td>257100</td>\n",
       "      <td>259800</td>\n",
       "      <td>261400</td>\n",
       "      <td>0.4130</td>\n",
       "      <td>0.3189</td>\n",
       "    </tr>\n",
       "    <tr>\n",
       "      <th>23</th>\n",
       "      <td>77584</td>\n",
       "      <td>Pearland</td>\n",
       "      <td>Brazoria</td>\n",
       "      <td>138500.0</td>\n",
       "      <td>138700.0</td>\n",
       "      <td>139200.0</td>\n",
       "      <td>139900.0</td>\n",
       "      <td>140700.0</td>\n",
       "      <td>141600.0</td>\n",
       "      <td>142500.0</td>\n",
       "      <td>...</td>\n",
       "      <td>250500</td>\n",
       "      <td>250700</td>\n",
       "      <td>251000</td>\n",
       "      <td>251400</td>\n",
       "      <td>251900</td>\n",
       "      <td>253200</td>\n",
       "      <td>255100</td>\n",
       "      <td>256500</td>\n",
       "      <td>0.3783</td>\n",
       "      <td>0.2749</td>\n",
       "    </tr>\n",
       "  </tbody>\n",
       "</table>\n",
       "<p>5 rows × 270 columns</p>\n",
       "</div>"
      ],
      "text/plain": [
       "    RegionName         City CountyName   1996-04   1996-05   1996-06  \\\n",
       "2        77494         Katy     Harris  210400.0  212200.0  212200.0   \n",
       "5        77084      Houston     Harris   95000.0   95200.0   95400.0   \n",
       "8        77449         Katy     Harris   95400.0   95600.0   95800.0   \n",
       "22       77573  League City  Galveston  141400.0  141000.0  140600.0   \n",
       "23       77584     Pearland   Brazoria  138500.0  138700.0  139200.0   \n",
       "\n",
       "     1996-07   1996-08   1996-09   1996-10  ...  2017-09  2017-10  2017-11  \\\n",
       "2   210700.0  208300.0  205500.0  202500.0  ...   320200   320400   320800   \n",
       "5    95700.0   95900.0   96100.0   96200.0  ...   160200   161900   162800   \n",
       "8    96100.0   96400.0   96700.0   96800.0  ...   168400   169600   170900   \n",
       "22  140500.0  140400.0  140500.0  140700.0  ...   252300   252400   252300   \n",
       "23  139900.0  140700.0  141600.0  142500.0  ...   250500   250700   251000   \n",
       "\n",
       "    2017-12  2018-01  2018-02  2018-03  2018-04  ROI_5_years  ROI_10_years  \n",
       "2    321200   321200   323000   326900   329900       0.2842        0.2983  \n",
       "5    162800   162800   162900   163500   164300       0.4617        0.2494  \n",
       "8    172300   173300   174200   175400   176200       0.5021        0.2908  \n",
       "22   253100   254700   257100   259800   261400       0.4130        0.3189  \n",
       "23   251400   251900   253200   255100   256500       0.3783        0.2749  \n",
       "\n",
       "[5 rows x 270 columns]"
      ]
     },
     "execution_count": 8,
     "metadata": {},
     "output_type": "execute_result"
    }
   ],
   "source": [
    "houston_df.head()"
   ]
  },
  {
   "cell_type": "code",
   "execution_count": 9,
   "metadata": {
    "ExecuteTime": {
     "end_time": "2021-08-06T07:43:42.405511Z",
     "start_time": "2021-08-06T07:43:42.390585Z"
    }
   },
   "outputs": [
    {
     "data": {
      "text/plain": [
       "ROI_10_years    0\n",
       "2003-01         0\n",
       "2004-03         0\n",
       "2004-02         0\n",
       "2004-01         0\n",
       "               ..\n",
       "2010-07         0\n",
       "2010-06         0\n",
       "2010-05         0\n",
       "2010-04         0\n",
       "RegionName      0\n",
       "Length: 270, dtype: int64"
      ]
     },
     "execution_count": 9,
     "metadata": {},
     "output_type": "execute_result"
    }
   ],
   "source": [
    "houston_df.isna().sum().sort_values(ascending=False)"
   ]
  },
  {
   "cell_type": "code",
   "execution_count": 10,
   "metadata": {
    "ExecuteTime": {
     "end_time": "2021-08-06T07:43:42.452383Z",
     "start_time": "2021-08-06T07:43:42.406509Z"
    }
   },
   "outputs": [
    {
     "data": {
      "text/html": [
       "<div>\n",
       "<style scoped>\n",
       "    .dataframe tbody tr th:only-of-type {\n",
       "        vertical-align: middle;\n",
       "    }\n",
       "\n",
       "    .dataframe tbody tr th {\n",
       "        vertical-align: top;\n",
       "    }\n",
       "\n",
       "    .dataframe thead th {\n",
       "        text-align: right;\n",
       "    }\n",
       "</style>\n",
       "<table border=\"1\" class=\"dataframe\">\n",
       "  <thead>\n",
       "    <tr style=\"text-align: right;\">\n",
       "      <th></th>\n",
       "      <th>RegionName</th>\n",
       "      <th>City</th>\n",
       "      <th>CountyName</th>\n",
       "      <th>ROI_5_years</th>\n",
       "      <th>ROI_10_years</th>\n",
       "      <th>Date</th>\n",
       "      <th>value</th>\n",
       "    </tr>\n",
       "  </thead>\n",
       "  <tbody>\n",
       "    <tr>\n",
       "      <th>0</th>\n",
       "      <td>77494</td>\n",
       "      <td>Katy</td>\n",
       "      <td>Harris</td>\n",
       "      <td>0.2842</td>\n",
       "      <td>0.2983</td>\n",
       "      <td>1996-04-01</td>\n",
       "      <td>210400.0</td>\n",
       "    </tr>\n",
       "    <tr>\n",
       "      <th>1</th>\n",
       "      <td>77084</td>\n",
       "      <td>Houston</td>\n",
       "      <td>Harris</td>\n",
       "      <td>0.4617</td>\n",
       "      <td>0.2494</td>\n",
       "      <td>1996-04-01</td>\n",
       "      <td>95000.0</td>\n",
       "    </tr>\n",
       "    <tr>\n",
       "      <th>2</th>\n",
       "      <td>77449</td>\n",
       "      <td>Katy</td>\n",
       "      <td>Harris</td>\n",
       "      <td>0.5021</td>\n",
       "      <td>0.2908</td>\n",
       "      <td>1996-04-01</td>\n",
       "      <td>95400.0</td>\n",
       "    </tr>\n",
       "    <tr>\n",
       "      <th>3</th>\n",
       "      <td>77573</td>\n",
       "      <td>League City</td>\n",
       "      <td>Galveston</td>\n",
       "      <td>0.4130</td>\n",
       "      <td>0.3189</td>\n",
       "      <td>1996-04-01</td>\n",
       "      <td>141400.0</td>\n",
       "    </tr>\n",
       "    <tr>\n",
       "      <th>4</th>\n",
       "      <td>77584</td>\n",
       "      <td>Pearland</td>\n",
       "      <td>Brazoria</td>\n",
       "      <td>0.3783</td>\n",
       "      <td>0.2749</td>\n",
       "      <td>1996-04-01</td>\n",
       "      <td>138500.0</td>\n",
       "    </tr>\n",
       "  </tbody>\n",
       "</table>\n",
       "</div>"
      ],
      "text/plain": [
       "   RegionName         City CountyName  ROI_5_years  ROI_10_years       Date  \\\n",
       "0       77494         Katy     Harris       0.2842        0.2983 1996-04-01   \n",
       "1       77084      Houston     Harris       0.4617        0.2494 1996-04-01   \n",
       "2       77449         Katy     Harris       0.5021        0.2908 1996-04-01   \n",
       "3       77573  League City  Galveston       0.4130        0.3189 1996-04-01   \n",
       "4       77584     Pearland   Brazoria       0.3783        0.2749 1996-04-01   \n",
       "\n",
       "      value  \n",
       "0  210400.0  \n",
       "1   95000.0  \n",
       "2   95400.0  \n",
       "3  141400.0  \n",
       "4  138500.0  "
      ]
     },
     "execution_count": 10,
     "metadata": {},
     "output_type": "execute_result"
    }
   ],
   "source": [
    "melt_df = melt_data(houston_df)\n",
    "melt_df.head()"
   ]
  },
  {
   "cell_type": "code",
   "execution_count": 11,
   "metadata": {
    "ExecuteTime": {
     "end_time": "2021-08-06T07:43:42.468341Z",
     "start_time": "2021-08-06T07:43:42.453381Z"
    }
   },
   "outputs": [
    {
     "data": {
      "text/html": [
       "<div>\n",
       "<style scoped>\n",
       "    .dataframe tbody tr th:only-of-type {\n",
       "        vertical-align: middle;\n",
       "    }\n",
       "\n",
       "    .dataframe tbody tr th {\n",
       "        vertical-align: top;\n",
       "    }\n",
       "\n",
       "    .dataframe thead th {\n",
       "        text-align: right;\n",
       "    }\n",
       "</style>\n",
       "<table border=\"1\" class=\"dataframe\">\n",
       "  <thead>\n",
       "    <tr style=\"text-align: right;\">\n",
       "      <th></th>\n",
       "      <th>Zipcode</th>\n",
       "      <th>City</th>\n",
       "      <th>County</th>\n",
       "      <th>ROI_5_years</th>\n",
       "      <th>ROI_10_years</th>\n",
       "      <th>Date</th>\n",
       "      <th>Price</th>\n",
       "    </tr>\n",
       "  </thead>\n",
       "  <tbody>\n",
       "    <tr>\n",
       "      <th>0</th>\n",
       "      <td>77494</td>\n",
       "      <td>Katy</td>\n",
       "      <td>Harris</td>\n",
       "      <td>0.2842</td>\n",
       "      <td>0.2983</td>\n",
       "      <td>1996-04-01</td>\n",
       "      <td>210400.0</td>\n",
       "    </tr>\n",
       "    <tr>\n",
       "      <th>1</th>\n",
       "      <td>77084</td>\n",
       "      <td>Houston</td>\n",
       "      <td>Harris</td>\n",
       "      <td>0.4617</td>\n",
       "      <td>0.2494</td>\n",
       "      <td>1996-04-01</td>\n",
       "      <td>95000.0</td>\n",
       "    </tr>\n",
       "    <tr>\n",
       "      <th>2</th>\n",
       "      <td>77449</td>\n",
       "      <td>Katy</td>\n",
       "      <td>Harris</td>\n",
       "      <td>0.5021</td>\n",
       "      <td>0.2908</td>\n",
       "      <td>1996-04-01</td>\n",
       "      <td>95400.0</td>\n",
       "    </tr>\n",
       "    <tr>\n",
       "      <th>3</th>\n",
       "      <td>77573</td>\n",
       "      <td>League City</td>\n",
       "      <td>Galveston</td>\n",
       "      <td>0.4130</td>\n",
       "      <td>0.3189</td>\n",
       "      <td>1996-04-01</td>\n",
       "      <td>141400.0</td>\n",
       "    </tr>\n",
       "    <tr>\n",
       "      <th>4</th>\n",
       "      <td>77584</td>\n",
       "      <td>Pearland</td>\n",
       "      <td>Brazoria</td>\n",
       "      <td>0.3783</td>\n",
       "      <td>0.2749</td>\n",
       "      <td>1996-04-01</td>\n",
       "      <td>138500.0</td>\n",
       "    </tr>\n",
       "  </tbody>\n",
       "</table>\n",
       "</div>"
      ],
      "text/plain": [
       "   Zipcode         City     County  ROI_5_years  ROI_10_years       Date  \\\n",
       "0    77494         Katy     Harris       0.2842        0.2983 1996-04-01   \n",
       "1    77084      Houston     Harris       0.4617        0.2494 1996-04-01   \n",
       "2    77449         Katy     Harris       0.5021        0.2908 1996-04-01   \n",
       "3    77573  League City  Galveston       0.4130        0.3189 1996-04-01   \n",
       "4    77584     Pearland   Brazoria       0.3783        0.2749 1996-04-01   \n",
       "\n",
       "      Price  \n",
       "0  210400.0  \n",
       "1   95000.0  \n",
       "2   95400.0  \n",
       "3  141400.0  \n",
       "4  138500.0  "
      ]
     },
     "execution_count": 11,
     "metadata": {},
     "output_type": "execute_result"
    }
   ],
   "source": [
    "melt_df.rename(columns = {\"RegionName\": \"Zipcode\", \"CountyName\": \"County\", \"time\": \"Date\", \"value\": \"Price\"}, inplace=True)\n",
    "melt_df.head()"
   ]
  },
  {
   "cell_type": "code",
   "execution_count": 12,
   "metadata": {
    "ExecuteTime": {
     "end_time": "2021-08-06T07:43:42.530201Z",
     "start_time": "2021-08-06T07:43:42.469339Z"
    }
   },
   "outputs": [],
   "source": [
    "# Zipcode type to string\n",
    "melt_df['Zipcode'] = melt_df['Zipcode'].astype(str)\n",
    "\n",
    "# 'Date' column to datetime format\n",
    "melt_df['Date'] = pd.to_datetime(melt_df['Date'], format='%m/%y')\n",
    "\n",
    "# 'Date' column as dataframe index\n",
    "melt_df.set_index('Date', inplace=True)"
   ]
  },
  {
   "cell_type": "code",
   "execution_count": 13,
   "metadata": {
    "ExecuteTime": {
     "end_time": "2021-08-06T07:43:42.546133Z",
     "start_time": "2021-08-06T07:43:42.531173Z"
    }
   },
   "outputs": [
    {
     "data": {
      "text/html": [
       "<div>\n",
       "<style scoped>\n",
       "    .dataframe tbody tr th:only-of-type {\n",
       "        vertical-align: middle;\n",
       "    }\n",
       "\n",
       "    .dataframe tbody tr th {\n",
       "        vertical-align: top;\n",
       "    }\n",
       "\n",
       "    .dataframe thead th {\n",
       "        text-align: right;\n",
       "    }\n",
       "</style>\n",
       "<table border=\"1\" class=\"dataframe\">\n",
       "  <thead>\n",
       "    <tr style=\"text-align: right;\">\n",
       "      <th></th>\n",
       "      <th>Zipcode</th>\n",
       "      <th>City</th>\n",
       "      <th>County</th>\n",
       "      <th>ROI_5_years</th>\n",
       "      <th>ROI_10_years</th>\n",
       "      <th>Price</th>\n",
       "    </tr>\n",
       "    <tr>\n",
       "      <th>Date</th>\n",
       "      <th></th>\n",
       "      <th></th>\n",
       "      <th></th>\n",
       "      <th></th>\n",
       "      <th></th>\n",
       "      <th></th>\n",
       "    </tr>\n",
       "  </thead>\n",
       "  <tbody>\n",
       "    <tr>\n",
       "      <th>1996-04-01</th>\n",
       "      <td>77494</td>\n",
       "      <td>Katy</td>\n",
       "      <td>Harris</td>\n",
       "      <td>0.2842</td>\n",
       "      <td>0.2983</td>\n",
       "      <td>210400.0</td>\n",
       "    </tr>\n",
       "    <tr>\n",
       "      <th>1996-04-01</th>\n",
       "      <td>77084</td>\n",
       "      <td>Houston</td>\n",
       "      <td>Harris</td>\n",
       "      <td>0.4617</td>\n",
       "      <td>0.2494</td>\n",
       "      <td>95000.0</td>\n",
       "    </tr>\n",
       "    <tr>\n",
       "      <th>1996-04-01</th>\n",
       "      <td>77449</td>\n",
       "      <td>Katy</td>\n",
       "      <td>Harris</td>\n",
       "      <td>0.5021</td>\n",
       "      <td>0.2908</td>\n",
       "      <td>95400.0</td>\n",
       "    </tr>\n",
       "    <tr>\n",
       "      <th>1996-04-01</th>\n",
       "      <td>77573</td>\n",
       "      <td>League City</td>\n",
       "      <td>Galveston</td>\n",
       "      <td>0.4130</td>\n",
       "      <td>0.3189</td>\n",
       "      <td>141400.0</td>\n",
       "    </tr>\n",
       "    <tr>\n",
       "      <th>1996-04-01</th>\n",
       "      <td>77584</td>\n",
       "      <td>Pearland</td>\n",
       "      <td>Brazoria</td>\n",
       "      <td>0.3783</td>\n",
       "      <td>0.2749</td>\n",
       "      <td>138500.0</td>\n",
       "    </tr>\n",
       "    <tr>\n",
       "      <th>...</th>\n",
       "      <td>...</td>\n",
       "      <td>...</td>\n",
       "      <td>...</td>\n",
       "      <td>...</td>\n",
       "      <td>...</td>\n",
       "      <td>...</td>\n",
       "    </tr>\n",
       "    <tr>\n",
       "      <th>2018-04-01</th>\n",
       "      <td>77514</td>\n",
       "      <td>Anahuac</td>\n",
       "      <td>Chambers</td>\n",
       "      <td>0.3933</td>\n",
       "      <td>0.2795</td>\n",
       "      <td>136400.0</td>\n",
       "    </tr>\n",
       "    <tr>\n",
       "      <th>2018-04-01</th>\n",
       "      <td>77050</td>\n",
       "      <td>Houston</td>\n",
       "      <td>Harris</td>\n",
       "      <td>0.5695</td>\n",
       "      <td>0.2468</td>\n",
       "      <td>115200.0</td>\n",
       "    </tr>\n",
       "    <tr>\n",
       "      <th>2018-04-01</th>\n",
       "      <td>77650</td>\n",
       "      <td>Port Bolivar</td>\n",
       "      <td>Galveston</td>\n",
       "      <td>0.2758</td>\n",
       "      <td>0.1968</td>\n",
       "      <td>247500.0</td>\n",
       "    </tr>\n",
       "    <tr>\n",
       "      <th>2018-04-01</th>\n",
       "      <td>77534</td>\n",
       "      <td>Danbury</td>\n",
       "      <td>Brazoria</td>\n",
       "      <td>0.3290</td>\n",
       "      <td>0.2795</td>\n",
       "      <td>164800.0</td>\n",
       "    </tr>\n",
       "    <tr>\n",
       "      <th>2018-04-01</th>\n",
       "      <td>77577</td>\n",
       "      <td>Liverpool</td>\n",
       "      <td>Brazoria</td>\n",
       "      <td>0.4772</td>\n",
       "      <td>0.2110</td>\n",
       "      <td>149200.0</td>\n",
       "    </tr>\n",
       "  </tbody>\n",
       "</table>\n",
       "<p>49555 rows × 6 columns</p>\n",
       "</div>"
      ],
      "text/plain": [
       "           Zipcode          City     County  ROI_5_years  ROI_10_years  \\\n",
       "Date                                                                     \n",
       "1996-04-01   77494          Katy     Harris       0.2842        0.2983   \n",
       "1996-04-01   77084       Houston     Harris       0.4617        0.2494   \n",
       "1996-04-01   77449          Katy     Harris       0.5021        0.2908   \n",
       "1996-04-01   77573   League City  Galveston       0.4130        0.3189   \n",
       "1996-04-01   77584      Pearland   Brazoria       0.3783        0.2749   \n",
       "...            ...           ...        ...          ...           ...   \n",
       "2018-04-01   77514       Anahuac   Chambers       0.3933        0.2795   \n",
       "2018-04-01   77050       Houston     Harris       0.5695        0.2468   \n",
       "2018-04-01   77650  Port Bolivar  Galveston       0.2758        0.1968   \n",
       "2018-04-01   77534       Danbury   Brazoria       0.3290        0.2795   \n",
       "2018-04-01   77577     Liverpool   Brazoria       0.4772        0.2110   \n",
       "\n",
       "               Price  \n",
       "Date                  \n",
       "1996-04-01  210400.0  \n",
       "1996-04-01   95000.0  \n",
       "1996-04-01   95400.0  \n",
       "1996-04-01  141400.0  \n",
       "1996-04-01  138500.0  \n",
       "...              ...  \n",
       "2018-04-01  136400.0  \n",
       "2018-04-01  115200.0  \n",
       "2018-04-01  247500.0  \n",
       "2018-04-01  164800.0  \n",
       "2018-04-01  149200.0  \n",
       "\n",
       "[49555 rows x 6 columns]"
      ]
     },
     "execution_count": 13,
     "metadata": {},
     "output_type": "execute_result"
    }
   ],
   "source": [
    "melt_df"
   ]
  },
  {
   "cell_type": "code",
   "execution_count": 14,
   "metadata": {
    "ExecuteTime": {
     "end_time": "2021-08-06T07:43:42.561095Z",
     "start_time": "2021-08-06T07:43:42.547133Z"
    },
    "scrolled": true
   },
   "outputs": [
    {
     "data": {
      "text/plain": [
       "Zipcode         0\n",
       "City            0\n",
       "County          0\n",
       "ROI_5_years     0\n",
       "ROI_10_years    0\n",
       "Price           0\n",
       "dtype: int64"
      ]
     },
     "execution_count": 14,
     "metadata": {},
     "output_type": "execute_result"
    }
   ],
   "source": [
    "# Double Check for missing values\n",
    "melt_df.isna().sum()"
   ]
  },
  {
   "cell_type": "markdown",
   "metadata": {},
   "source": [
    "## EDA and Visualization"
   ]
  },
  {
   "cell_type": "markdown",
   "metadata": {},
   "source": [
    "__Questions we can ask:__\n",
    "1. How have Houston housing prices generally trended over time?\n",
    "2. Which zipcodes in Houston have the highest prices?\n",
    "3. Which "
   ]
  },
  {
   "cell_type": "markdown",
   "metadata": {},
   "source": [
    "### How have Texas housing prices generally trended over time?"
   ]
  },
  {
   "cell_type": "code",
   "execution_count": 15,
   "metadata": {
    "ExecuteTime": {
     "end_time": "2021-08-06T07:43:42.779593Z",
     "start_time": "2021-08-06T07:43:42.562092Z"
    },
    "scrolled": true
   },
   "outputs": [
    {
     "data": {
      "image/png": "[encoded data removed]",
      "text/plain": [
       "<Figure size 432x288 with 1 Axes>"
      ]
     },
     "metadata": {},
     "output_type": "display_data"
    }
   ],
   "source": [
    "yearly_df = melt_df['Price'].resample(rule='A').mean()\n",
    "yearly_df.plot.line(color='green')\n",
    "plt.title('Average Houston Home Value By Year')\n",
    "plt.ylabel('Value ($)')\n",
    "plt.show()"
   ]
  },
  {
   "cell_type": "markdown",
   "metadata": {},
   "source": [
    "* Outside of the dip in housing prices between 2007 and 2011, the average price of a Texas home has __steadily increased__.\n",
    "***"
   ]
  },
  {
   "cell_type": "markdown",
   "metadata": {},
   "source": [
    "### Which counties have higher home prices?"
   ]
  },
  {
   "cell_type": "code",
   "execution_count": 16,
   "metadata": {
    "ExecuteTime": {
     "end_time": "2021-08-06T07:43:42.794577Z",
     "start_time": "2021-08-06T07:43:42.781591Z"
    },
    "scrolled": true
   },
   "outputs": [],
   "source": [
    "county_df = melt_df.copy()\n",
    "county_df = county_df.groupby('County').Price.mean().sort_values(ascending=False).head(10)"
   ]
  },
  {
   "cell_type": "code",
   "execution_count": 17,
   "metadata": {
    "ExecuteTime": {
     "end_time": "2021-08-06T07:43:42.967601Z",
     "start_time": "2021-08-06T07:43:42.795576Z"
    }
   },
   "outputs": [
    {
     "data": {
      "image/png": "[encoded data removed]",
      "text/plain": [
       "<Figure size 432x288 with 1 Axes>"
      ]
     },
     "metadata": {},
     "output_type": "display_data"
    }
   ],
   "source": [
    "county_df.plot.barh(color='teal')\n",
    "plt.title('Average Value of Home by County Area')\n",
    "plt.xlabel('Value ($)')\n",
    "plt.show()"
   ]
  },
  {
   "cell_type": "markdown",
   "metadata": {},
   "source": [
    "* __Harris, Fort Bend, and Montgomery__ have clearly the highest average home values in the past 20 years.\n",
    "___"
   ]
  },
  {
   "cell_type": "markdown",
   "metadata": {},
   "source": [
    "### Which counties have the highest ROIs?"
   ]
  },
  {
   "cell_type": "code",
   "execution_count": 28,
   "metadata": {
    "ExecuteTime": {
     "end_time": "2021-08-06T07:50:04.031161Z",
     "start_time": "2021-08-06T07:50:04.011215Z"
    }
   },
   "outputs": [],
   "source": [
    "# 5 year ROI\n",
    "ROI_5_df = melt_df.copy()\n",
    "ROI_5_df = ROI_5_df.groupby('County').ROI_5_years.mean().sort_values(ascending=False).head(10)"
   ]
  },
  {
   "cell_type": "code",
   "execution_count": 29,
   "metadata": {
    "ExecuteTime": {
     "end_time": "2021-08-06T07:50:04.466508Z",
     "start_time": "2021-08-06T07:50:04.322383Z"
    }
   },
   "outputs": [
    {
     "data": {
      "image/png": "[encoded data removed]",
      "text/plain": [
       "<Figure size 432x288 with 1 Axes>"
      ]
     },
     "metadata": {},
     "output_type": "display_data"
    }
   ],
   "source": [
    "ROI_5_df.plot.barh(color='teal')\n",
    "plt.title('Average ROI of Home in 5 Years by County Area')\n",
    "plt.xlabel('Value ($)')\n",
    "plt.show()"
   ]
  },
  {
   "cell_type": "code",
   "execution_count": 26,
   "metadata": {
    "ExecuteTime": {
     "end_time": "2021-08-06T07:50:00.280673Z",
     "start_time": "2021-08-06T07:50:00.260215Z"
    }
   },
   "outputs": [],
   "source": [
    "# 10 year ROI\n",
    "ROI_10_df = melt_df.copy()\n",
    "ROI_10_df = ROI_10_df.groupby('County').ROI_10_years.mean().sort_values(ascending=False).head(10)"
   ]
  },
  {
   "cell_type": "code",
   "execution_count": 27,
   "metadata": {
    "ExecuteTime": {
     "end_time": "2021-08-06T07:50:00.781795Z",
     "start_time": "2021-08-06T07:50:00.585811Z"
    }
   },
   "outputs": [
    {
     "data": {
      "image/png": "[encoded data removed]",
      "text/plain": [
       "<Figure size 432x288 with 1 Axes>"
      ]
     },
     "metadata": {},
     "output_type": "display_data"
    }
   ],
   "source": [
    "ROI_10_df.plot.barh(color='teal')\n",
    "plt.title('Average ROI of Home in 10 Years by County Area')\n",
    "plt.xlabel('Value ($)')\n",
    "plt.show()"
   ]
  },
  {
   "cell_type": "markdown",
   "metadata": {},
   "source": [
    "### Which Zipcodes in Houston have the highest home prices?"
   ]
  },
  {
   "cell_type": "code",
   "execution_count": 18,
   "metadata": {
    "ExecuteTime": {
     "end_time": "2021-08-06T07:43:42.982561Z",
     "start_time": "2021-08-06T07:43:42.968599Z"
    }
   },
   "outputs": [],
   "source": [
    "zip_df = melt_df.copy()\n",
    "zip_df = zip_df.groupby('Zipcode').Price.mean().sort_values(ascending=False).head(10)"
   ]
  },
  {
   "cell_type": "code",
   "execution_count": 19,
   "metadata": {
    "ExecuteTime": {
     "end_time": "2021-08-06T07:43:43.186022Z",
     "start_time": "2021-08-06T07:43:42.983587Z"
    }
   },
   "outputs": [
    {
     "data": {
      "image/png": "[encoded data removed]",
      "text/plain": [
       "<Figure size 432x288 with 1 Axes>"
      ]
     },
     "metadata": {},
     "output_type": "display_data"
    }
   ],
   "source": [
    "zip_df.plot.barh(color='teal')\n",
    "plt.title('Average Value of Home by Zipcode')\n",
    "plt.xlabel('Value ($)')\n",
    "plt.show()"
   ]
  },
  {
   "cell_type": "markdown",
   "metadata": {},
   "source": [
    "* __77024__ appears to be the zipcode with the Highest average home value in the past 20 years.\n",
    "***"
   ]
  },
  {
   "cell_type": "markdown",
   "metadata": {},
   "source": [
    "## Time Series Modeling"
   ]
  },
  {
   "cell_type": "markdown",
   "metadata": {},
   "source": [
    "Using SARIMA model. Need to check for stationary."
   ]
  },
  {
   "cell_type": "code",
   "execution_count": null,
   "metadata": {},
   "outputs": [],
   "source": [
    "from statsmodels.tsa.seasonal import seasonal_decompose\n",
    "from statsmodels.graphics.tsaplots import plot_acf,plot_pacf\n",
    "from pandas.plotting import autocorrelation_plot,lag_plot\n",
    "\n",
    "def plot_autocorr(ts, figsize=(10,8),lags=24):\n",
    "    \n",
    "    fig,ax = plt.subplots(nrows=3,figsize=figsize)\n",
    "    \n",
    "    ## Plot ts\n",
    "    ts.plot(ax=ax[0])\n",
    "    \n",
    "    ## Plot acf, pavf\n",
    "    plot_acf(ts,ax=ax[1],lags=lags)\n",
    "    plot_pacf(ts, ax=ax[2],lags=lags) \n",
    "    fig.tight_layout()\n",
    "    \n",
    "    fig.suptitle(f\"Zipcode: {ts.name}\",y=1.1,fontsize=20)\n",
    "    \n",
    "    for a in ax[1:]:\n",
    "        a.xaxis.set_major_locator(mpl.ticker.MaxNLocator(min_n_ticks=lags, integer=True))\n",
    "        a.xaxis.grid()\n",
    "        \n",
    "    return fig,ax"
   ]
  },
  {
   "cell_type": "code",
   "execution_count": null,
   "metadata": {},
   "outputs": [],
   "source": []
  },
  {
   "cell_type": "markdown",
   "metadata": {},
   "source": [
    "# Step 6: Interpreting Results"
   ]
  },
  {
   "cell_type": "code",
   "execution_count": null,
   "metadata": {},
   "outputs": [],
   "source": []
  },
  {
   "cell_type": "code",
   "execution_count": null,
   "metadata": {},
   "outputs": [],
   "source": []
  },
  {
   "cell_type": "code",
   "execution_count": null,
   "metadata": {},
   "outputs": [],
   "source": []
  }
 ],
 "metadata": {
  "kernelspec": {
   "display_name": "Python 3",
   "language": "python",
   "name": "python3"
  },
  "language_info": {
   "codemirror_mode": {
    "name": "ipython",
    "version": 3
   },
   "file_extension": ".py",
   "mimetype": "text/x-python",
   "name": "python",
   "nbconvert_exporter": "python",
   "pygments_lexer": "ipython3",
   "version": "3.8.5"
  },
  "toc": {
   "base_numbering": 1,
   "nav_menu": {},
   "number_sections": true,
   "sideBar": true,
   "skip_h1_title": false,
   "title_cell": "Table of Contents",
   "title_sidebar": "Contents",
   "toc_cell": false,
   "toc_position": {},
   "toc_section_display": true,
   "toc_window_display": false
  }
 },
 "nbformat": 4,
 "nbformat_minor": 2
}
